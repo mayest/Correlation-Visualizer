{
 "cells": [
  {
   "cell_type": "markdown",
   "metadata": {},
   "source": [
    "# Correlation Visualizer\n",
    "**by Timothy R. Mayes, Ph.D** (<mayest2@comcast.net>)\n",
    "\n",
    "*Version 1.0, 1 September 2018*\n",
    "\n",
    "This Jupyter notebook is intended to demonstrate how correlated variables appear in both scatter and line charts. It makes use of Jupyter Widgets to create a slider control that allows the user to vary the correlation coefficient and immediately see an updated chart. The chart data is randomly generated using the Numpy library. Because the data is random, the actual correlation will be close to, but not exactly equal to, the requested correlation."
   ]
  },
  {
   "cell_type": "markdown",
   "metadata": {},
   "source": [
    "## Import Needed Libraries"
   ]
  },
  {
   "cell_type": "code",
   "execution_count": 1,
   "metadata": {},
   "outputs": [],
   "source": [
    "import numpy as np\n",
    "from scipy import stats, signal\n",
    "import matplotlib.pyplot as plt\n",
    "%matplotlib inline\n",
    "\n",
    "from ipywidgets import interact, interactive, fixed, interact_manual\n",
    "import ipywidgets as widgets"
   ]
  },
  {
   "cell_type": "markdown",
   "metadata": {},
   "source": [
    "## Functions for Generating the Data and the Charts"
   ]
  },
  {
   "cell_type": "code",
   "execution_count": 18,
   "metadata": {},
   "outputs": [],
   "source": [
    "def correlated_normal(corr, mean1, stdev1, mean2, stdev2, numpts = 500):\n",
    "    '''Generate two data series that have a correlation specified by corr.\n",
    "    This is just a wrapper around np.random.multivariate_normal. I am using \n",
    "    this wrapper so that I can specify the correlation instead of the covariance.'''\n",
    "    cov12 = corr*stdev1*stdev2\n",
    "    mean = (mean1, mean2)\n",
    "    cov = [[stdev1**2, cov12], [cov12, stdev2**2]]\n",
    "    x = np.random.multivariate_normal(mean, cov, numpts).T\n",
    "    return x\n",
    "\n",
    "def draw_chart(corr, mean1=0.10, stdev1=0.15, mean2=0.10, stdev2=0.15, numpts = 500):\n",
    "    '''Draw a scatter chart of two series and fit a regression line'''\n",
    "    x = correlated_normal(corr,mean1,stdev1,mean2,stdev2,numpts) #Generate the random data with specified correlation\n",
    "\n",
    "    #Regression Line (regr[0] is slope, regr[1] is intercept, and regr[2] is correlation)\n",
    "    regr = stats.linregress(x[0], x[1]) \n",
    "    regr_line = regr[1] + regr[0]*x[0] #Generate regression line data\n",
    "    corr12 = regr[2] #correlation from regression output\n",
    "\n",
    "    #Set up Figure with two subplots\n",
    "    fig, (line,scatter) = plt.subplots(1,2,figsize=(20, 10))\n",
    "    fig.suptitle(r'Correlation $\\approx$ ' + '{:0.3f}'.format(corr),y=0.98,fontsize=24)\n",
    "    \n",
    "    #Line Chart using Savgol filter as an alternative to smoothing with a moving average\n",
    "    #The smoothing is just to make it easier to see the pattern of correlation between the two series\n",
    "    #See http://scipy.github.io/devdocs/generated/scipy.signal.savgol_filter.html#scipy.signal.savgol_filter\n",
    "    smooth1 = signal.savgol_filter(x[0], 51, 3)\n",
    "    smooth2 = signal.savgol_filter(x[1], 51, 3)\n",
    "    x_vals = range(1, len(smooth1)+1)\n",
    "    line.plot(x_vals, smooth1, 'b-',label=\"Variable 1\")\n",
    "    line.plot(x_vals, smooth2, 'r-',label=\"Variable 2\")\n",
    "    line.set_title('Line Chart', fontsize=20, pad=15)\n",
    "    line.legend(fontsize=14)\n",
    "    line.tick_params(axis='both', labelsize=14, pad=15)\n",
    "    line.set_xlabel('Period',fontsize=16)\n",
    "    line.set_ylabel('Value',fontsize=16)\n",
    "    \n",
    "    #Scatter Chart\n",
    "    scatter.plot(x[0], x[1], 'o', alpha = 0.2, label='Raw Data') #Plot the generated data\n",
    "    scatter.plot(x[0],regr_line,'r-', label = 'Regression Line') #Plot the regression line\n",
    "    scatter.plot([],[], alpha = 0, label = \n",
    "             'Actual Correlation = '+'{:0.3f}'.format(corr12)) #Empty plot just to add actual corr to legend\n",
    "    scatter.set_title('XY Scatter Chart', fontsize=20, pad=15)\n",
    "    limits = np.min(x[0]),np.max(x[0]),np.min(x[1]),np.max(x[1])\n",
    "    scatter.set_xlim(min(limits)*1.2,max(limits)*1.2)\n",
    "    scatter.set_ylim(min(limits)*1.2,max(limits)*1.2)\n",
    "    scatter.set_aspect('equal')\n",
    "    scatter.tick_params(axis='both', labelsize=14, pad=15)\n",
    "    scatter.legend(fontsize=14)\n",
    "    scatter.set_xlabel('Var 1',fontsize=16)\n",
    "    scatter.set_ylabel('Var 2',fontsize=16)\n",
    "    return"
   ]
  },
  {
   "cell_type": "markdown",
   "metadata": {},
   "source": [
    "## Show the Slider and the Interactive Chart\n",
    "Click on the slider to change the correlation coefficient and update the charts."
   ]
  },
  {
   "cell_type": "code",
   "execution_count": 19,
   "metadata": {},
   "outputs": [
    {
     "data": {
      "application/vnd.jupyter.widget-view+json": {
       "model_id": "a4034c7423014663b887007673feb494",
       "version_major": 2,
       "version_minor": 0
      },
      "text/plain": [
       "interactive(children=(FloatSlider(value=0.0, continuous_update=False, description='Correlation:', max=1.0, min…"
      ]
     },
     "metadata": {},
     "output_type": "display_data"
    }
   ],
   "source": [
    "def do_chart(corr):\n",
    "    '''This function calls draw_chart. It is needed to avoid generating one slider for each argument\n",
    "    of the draw_chart function. For my purposes here, I just use the default values for all arguments other \n",
    "    than corr.'''\n",
    "    draw_chart(corr)\n",
    "    return\n",
    "\n",
    "interact(do_chart, corr=widgets.FloatSlider(value=0.0,min=-1.0,max=1.0,step=0.1,description='Correlation:',\n",
    "                                                   disabled=False,continuous_update=False,orientation='horizontal',\n",
    "                                                   readout=True,readout_format='.2f',));"
   ]
  }
 ],
 "metadata": {
  "kernelspec": {
   "display_name": "Python 3",
   "language": "python",
   "name": "python3"
  },
  "language_info": {
   "codemirror_mode": {
    "name": "ipython",
    "version": 3
   },
   "file_extension": ".py",
   "mimetype": "text/x-python",
   "name": "python",
   "nbconvert_exporter": "python",
   "pygments_lexer": "ipython3",
   "version": "3.6.6"
  }
 },
 "nbformat": 4,
 "nbformat_minor": 2
}
